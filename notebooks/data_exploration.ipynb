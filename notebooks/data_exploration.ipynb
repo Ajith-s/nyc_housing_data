{
 "cells": [
  {
   "cell_type": "code",
   "execution_count": 2,
   "id": "initial_id",
   "metadata": {
    "collapsed": true,
    "ExecuteTime": {
     "end_time": "2024-01-22T01:59:48.004737Z",
     "start_time": "2024-01-22T01:59:46.054654Z"
    }
   },
   "outputs": [],
   "source": [
    "import pandas as pd\n",
    "import plotly\n",
    "import plotly.express as px\n",
    "import matplotlib.pyplot as plt\n",
    "\n",
    "import numpy as np\n",
    "import sklearn"
   ]
  },
  {
   "cell_type": "code",
   "outputs": [
    {
     "data": {
      "text/plain": "                                         BROKERTITLE                TYPE  \\\n0        Brokered by Douglas Elliman  -111 Fifth Ave      Condo for sale   \n1                                Brokered by Serhant      Condo for sale   \n2                             Brokered by Sowae Corp      House for sale   \n3                                Brokered by COMPASS      Condo for sale   \n4  Brokered by Sotheby's International Realty - E...  Townhouse for sale   \n\n       PRICE  BEDS       BATH  PROPERTYSQFT  \\\n0     315000     2   2.000000        1400.0   \n1  195000000     7  10.000000       17545.0   \n2     260000     4   2.000000        2015.0   \n3      69000     3   1.000000         445.0   \n4   55000000     7   2.373861       14175.0   \n\n                                             ADDRESS                    STATE  \\\n0                               2 E 55th St Unit 803       New York, NY 10022   \n1  Central Park Tower Penthouse-217 W 57th New Yo...       New York, NY 10019   \n2                                   620 Sinclair Ave  Staten Island, NY 10312   \n3                            2 E 55th St Unit 908W33      Manhattan, NY 10022   \n4                                        5 E 64th St       New York, NY 10065   \n\n                                        MAIN_ADDRESS  \\\n0             2 E 55th St Unit 803New York, NY 10022   \n1  Central Park Tower Penthouse-217 W 57th New Yo...   \n2            620 Sinclair AveStaten Island, NY 10312   \n3         2 E 55th St Unit 908W33Manhattan, NY 10022   \n4                      5 E 64th StNew York, NY 10065   \n\n  ADMINISTRATIVE_AREA_LEVEL_2  LOCALITY      SUBLOCALITY       STREET_NAME  \\\n0             New York County  New York        Manhattan  East 55th Street   \n1               United States  New York  New York County          New York   \n2               United States  New York  Richmond County     Staten Island   \n3               United States  New York  New York County          New York   \n4               United States  New York  New York County          New York   \n\n          LONG_NAME                                  FORMATTED_ADDRESS  \\\n0   Regis Residence  Regis Residence, 2 E 55th St #803, New York, N...   \n1  West 57th Street             217 W 57th St, New York, NY 10019, USA   \n2   Sinclair Avenue     620 Sinclair Ave, Staten Island, NY 10312, USA   \n3  East 55th Street               2 E 55th St, New York, NY 10022, USA   \n4  East 64th Street               5 E 64th St, New York, NY 10065, USA   \n\n    LATITUDE  LONGITUDE  \n0  40.761255 -73.974483  \n1  40.766393 -73.980991  \n2  40.541805 -74.196109  \n3  40.761398 -73.974613  \n4  40.767224 -73.969856  ",
      "text/html": "<div>\n<style scoped>\n    .dataframe tbody tr th:only-of-type {\n        vertical-align: middle;\n    }\n\n    .dataframe tbody tr th {\n        vertical-align: top;\n    }\n\n    .dataframe thead th {\n        text-align: right;\n    }\n</style>\n<table border=\"1\" class=\"dataframe\">\n  <thead>\n    <tr style=\"text-align: right;\">\n      <th></th>\n      <th>BROKERTITLE</th>\n      <th>TYPE</th>\n      <th>PRICE</th>\n      <th>BEDS</th>\n      <th>BATH</th>\n      <th>PROPERTYSQFT</th>\n      <th>ADDRESS</th>\n      <th>STATE</th>\n      <th>MAIN_ADDRESS</th>\n      <th>ADMINISTRATIVE_AREA_LEVEL_2</th>\n      <th>LOCALITY</th>\n      <th>SUBLOCALITY</th>\n      <th>STREET_NAME</th>\n      <th>LONG_NAME</th>\n      <th>FORMATTED_ADDRESS</th>\n      <th>LATITUDE</th>\n      <th>LONGITUDE</th>\n    </tr>\n  </thead>\n  <tbody>\n    <tr>\n      <th>0</th>\n      <td>Brokered by Douglas Elliman  -111 Fifth Ave</td>\n      <td>Condo for sale</td>\n      <td>315000</td>\n      <td>2</td>\n      <td>2.000000</td>\n      <td>1400.0</td>\n      <td>2 E 55th St Unit 803</td>\n      <td>New York, NY 10022</td>\n      <td>2 E 55th St Unit 803New York, NY 10022</td>\n      <td>New York County</td>\n      <td>New York</td>\n      <td>Manhattan</td>\n      <td>East 55th Street</td>\n      <td>Regis Residence</td>\n      <td>Regis Residence, 2 E 55th St #803, New York, N...</td>\n      <td>40.761255</td>\n      <td>-73.974483</td>\n    </tr>\n    <tr>\n      <th>1</th>\n      <td>Brokered by Serhant</td>\n      <td>Condo for sale</td>\n      <td>195000000</td>\n      <td>7</td>\n      <td>10.000000</td>\n      <td>17545.0</td>\n      <td>Central Park Tower Penthouse-217 W 57th New Yo...</td>\n      <td>New York, NY 10019</td>\n      <td>Central Park Tower Penthouse-217 W 57th New Yo...</td>\n      <td>United States</td>\n      <td>New York</td>\n      <td>New York County</td>\n      <td>New York</td>\n      <td>West 57th Street</td>\n      <td>217 W 57th St, New York, NY 10019, USA</td>\n      <td>40.766393</td>\n      <td>-73.980991</td>\n    </tr>\n    <tr>\n      <th>2</th>\n      <td>Brokered by Sowae Corp</td>\n      <td>House for sale</td>\n      <td>260000</td>\n      <td>4</td>\n      <td>2.000000</td>\n      <td>2015.0</td>\n      <td>620 Sinclair Ave</td>\n      <td>Staten Island, NY 10312</td>\n      <td>620 Sinclair AveStaten Island, NY 10312</td>\n      <td>United States</td>\n      <td>New York</td>\n      <td>Richmond County</td>\n      <td>Staten Island</td>\n      <td>Sinclair Avenue</td>\n      <td>620 Sinclair Ave, Staten Island, NY 10312, USA</td>\n      <td>40.541805</td>\n      <td>-74.196109</td>\n    </tr>\n    <tr>\n      <th>3</th>\n      <td>Brokered by COMPASS</td>\n      <td>Condo for sale</td>\n      <td>69000</td>\n      <td>3</td>\n      <td>1.000000</td>\n      <td>445.0</td>\n      <td>2 E 55th St Unit 908W33</td>\n      <td>Manhattan, NY 10022</td>\n      <td>2 E 55th St Unit 908W33Manhattan, NY 10022</td>\n      <td>United States</td>\n      <td>New York</td>\n      <td>New York County</td>\n      <td>New York</td>\n      <td>East 55th Street</td>\n      <td>2 E 55th St, New York, NY 10022, USA</td>\n      <td>40.761398</td>\n      <td>-73.974613</td>\n    </tr>\n    <tr>\n      <th>4</th>\n      <td>Brokered by Sotheby's International Realty - E...</td>\n      <td>Townhouse for sale</td>\n      <td>55000000</td>\n      <td>7</td>\n      <td>2.373861</td>\n      <td>14175.0</td>\n      <td>5 E 64th St</td>\n      <td>New York, NY 10065</td>\n      <td>5 E 64th StNew York, NY 10065</td>\n      <td>United States</td>\n      <td>New York</td>\n      <td>New York County</td>\n      <td>New York</td>\n      <td>East 64th Street</td>\n      <td>5 E 64th St, New York, NY 10065, USA</td>\n      <td>40.767224</td>\n      <td>-73.969856</td>\n    </tr>\n  </tbody>\n</table>\n</div>"
     },
     "execution_count": 3,
     "metadata": {},
     "output_type": "execute_result"
    }
   ],
   "source": [
    "df = pd.read_csv('data/NY-House-Dataset.csv')\n",
    "df.head()"
   ],
   "metadata": {
    "collapsed": false,
    "ExecuteTime": {
     "end_time": "2024-01-22T02:00:22.032188Z",
     "start_time": "2024-01-22T02:00:21.990028Z"
    }
   },
   "id": "8fc342e5d7dcae32",
   "execution_count": 3
  },
  {
   "cell_type": "code",
   "outputs": [],
   "source": [
    "data/NY-House-Dataset.csv"
   ],
   "metadata": {
    "collapsed": false
   },
   "id": "8c882dd856fccf2"
  }
 ],
 "metadata": {
  "kernelspec": {
   "display_name": "Python 3",
   "language": "python",
   "name": "python3"
  },
  "language_info": {
   "codemirror_mode": {
    "name": "ipython",
    "version": 2
   },
   "file_extension": ".py",
   "mimetype": "text/x-python",
   "name": "python",
   "nbconvert_exporter": "python",
   "pygments_lexer": "ipython2",
   "version": "2.7.6"
  }
 },
 "nbformat": 4,
 "nbformat_minor": 5
}
